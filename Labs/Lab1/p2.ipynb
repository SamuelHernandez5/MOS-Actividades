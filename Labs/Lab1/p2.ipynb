{
 "cells": [
  {
   "cell_type": "markdown",
   "metadata": {},
   "source": [
    "# Problema 2: Asignacion de trabajos a trabajadores\n",
    "\n",
    "## Parte A\n",
    "\n",
    "### Problema\n",
    "\n",
    "Se tiene un conjunto de trabajos que deben ser asignados a un grupo de trabajadores. Cada trabajo requiere un tiempo específico para completarse y genera una ganancia fija al finalizarse. Cada trabajador tiene una disponibilidad limitada de horas. El objetivo es maximizar la ganancia total obtenida por los trabajos asignados, sin que ningún trabajador exceda su disponibilidad horaria\n",
    "\n",
    "### Suposiciones\n",
    "\n",
    "- Los trabajos son independientes entre si.\n",
    "- Cada trabajo puede ser asignado a lo sumo a un trabajador (no se permite que un mismo trabajo sea realizado por varios trabajadores).\n",
    "- Un trabajo debe ser realizado por completo por el trabajador. No se hacen fracciones de trabajo.\n",
    "- El tiempo requerido para cada trabajo es fijo y no depende el trabajador.\n",
    "\n",
    "**Conjuntos:** Trabajo y empleados\n",
    "$$E = \\{E_1, E_2, E_3\\}$$\n",
    "$$T = \\{T_1, T_2, \\dots, T_5\\}$$\n",
    "\n",
    "### Parametros\n",
    "\n",
    "- Horas de cada tarea : $$H_t, \\quad \\forall t \\in T$$\n",
    "- Ganacias de cada tarea : $$G_t, \\quad \\forall t \\in T$$\n",
    "- Disponibildad de cada empleado : $$D_e, \\quad \\forall e \\in E$$\n",
    "\n",
    "### Variables clave\n",
    "Variable de decision binaria: $$X(t,e)$$\n",
    "Donde indica si ese trabajador hace esa tarea con valores de 1 y 0\n",
    "\n",
    "\n",
    "### Relaciones\n",
    "\n",
    "**Función Objetivo:**\n",
    "$$\\text{Maximizar} \\sum_{e \\in E} \\sum_{t \\in T} G_t \\times X_(t,e)$$\n",
    "**Restricciones:**\n",
    "$$\\sum_{t \\in T} H_t \\times X_(t,e) \\leq D_e \\quad \\forall e \\in E $$\n",
    "Restriccion de disponibilidad de empleado\n",
    "\n",
    "$$\\sum_{e \\in E} X_(t,e) \\leq 1 \\quad \\forall t \\in T $$\n",
    "Restriccion de asignacion unica de tarea (cada tarea solo se puede asignar una vez)\n",
    "\n",
    "\n",
    "### Tipo de modelo: MIP\n",
    "\n",
    "## Parte B\n",
    "\n",
    "- Solo el trabajador 1 puede realizar el Trabajo 1 \n",
    "- El Trabajo 3 no puede ser realizado por el trabajador 2\n",
    " \n",
    "Esto hace que al modelo de la parte A se agreguen las siguientes restricciones\n",
    "$$ X_(1,1) \\text{ = 1, } X_(1,2) \\text{ = 0, } X_(1,3) \\text{ = 0 } $$\n",
    "$$ X_(3,2) \\text{ = 0 } $$"
   ]
  }
 ],
 "metadata": {
  "language_info": {
   "name": "python"
  }
 },
 "nbformat": 4,
 "nbformat_minor": 2
}
