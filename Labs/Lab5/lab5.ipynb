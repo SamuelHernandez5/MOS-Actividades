{
 "cells": [
  {
   "cell_type": "markdown",
   "id": "fcb8ba24",
   "metadata": {},
   "source": [
    "# LAB 5 MOS: Optimización Multiobjetivo\n",
    "\n",
    "- Samuel Augusto Hernandez 202213772\n",
    "- Tomas Alberto Rodriguez 2022128686"
   ]
  },
  {
   "cell_type": "markdown",
   "id": "85be32f1",
   "metadata": {},
   "source": [
    "## Problema 1: Optimización Multiobjetivo en Distribución de Recursos para Misión Humanitaria"
   ]
  },
  {
   "cell_type": "markdown",
   "id": "0e937009",
   "metadata": {},
   "source": [
    "### Formulación del modelo Multiobjetivo\n",
    "\n",
    "#### Conjuntos\n",
    "\n",
    "#### Parámetros\n",
    "\n",
    "#### Variables de decision\n",
    "\n",
    "#### Funciones objetivo\n",
    "\n",
    "#### Restricciones\n",
    "\n",
    "#### Modelo de optimización\n",
    "\n",
    "\n",
    "### Implementación del modelo"
   ]
  },
  {
   "cell_type": "code",
   "execution_count": 7,
   "id": "aeae3a1f",
   "metadata": {},
   "outputs": [],
   "source": [
    "#codigo"
   ]
  },
  {
   "cell_type": "markdown",
   "id": "be931bd0",
   "metadata": {},
   "source": [
    "#### Visualizacion del frente de Pareto"
   ]
  },
  {
   "cell_type": "code",
   "execution_count": 8,
   "id": "69990fa7",
   "metadata": {},
   "outputs": [],
   "source": [
    "#codigo"
   ]
  },
  {
   "cell_type": "markdown",
   "id": "437cee80",
   "metadata": {},
   "source": [
    "### Analisis"
   ]
  },
  {
   "cell_type": "markdown",
   "id": "3ea591ea",
   "metadata": {},
   "source": [
    "## Problema 2: Optimización Multiobjetivo en Planificación de Rutas de Inspección"
   ]
  },
  {
   "cell_type": "markdown",
   "id": "c1b93904",
   "metadata": {},
   "source": [
    "### Formulación del modelo Multiobjetivo\n",
    "\n",
    "#### Conjuntos\n",
    "\n",
    "#### Parámetros\n",
    "\n",
    "#### Variables de decision\n",
    "\n",
    "#### Funciones objetivo\n",
    "\n",
    "#### Restricciones\n",
    "\n",
    "### Modelo de optimización\n",
    "\n",
    "\n",
    "### Implementación del modelo"
   ]
  },
  {
   "cell_type": "code",
   "execution_count": 9,
   "id": "767f2538",
   "metadata": {},
   "outputs": [],
   "source": [
    "#codigo"
   ]
  },
  {
   "cell_type": "markdown",
   "id": "de3f9eb1",
   "metadata": {},
   "source": [
    "#### Visulizacion del frente de Pareto"
   ]
  },
  {
   "cell_type": "code",
   "execution_count": 10,
   "id": "c1d02c9f",
   "metadata": {},
   "outputs": [],
   "source": [
    "#codigo"
   ]
  },
  {
   "cell_type": "markdown",
   "id": "102f3bd2",
   "metadata": {},
   "source": [
    "### Analisis"
   ]
  }
 ],
 "metadata": {
  "kernelspec": {
   "display_name": "pyomo_env",
   "language": "python",
   "name": "python3"
  },
  "language_info": {
   "codemirror_mode": {
    "name": "ipython",
    "version": 3
   },
   "file_extension": ".py",
   "mimetype": "text/x-python",
   "name": "python",
   "nbconvert_exporter": "python",
   "pygments_lexer": "ipython3",
   "version": "3.9.21"
  }
 },
 "nbformat": 4,
 "nbformat_minor": 5
}
