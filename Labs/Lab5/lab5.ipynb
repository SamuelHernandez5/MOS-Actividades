{
 "cells": [
  {
   "cell_type": "markdown",
   "id": "fcb8ba24",
   "metadata": {},
   "source": [
    "# LAB 5 MOS: Optimización Multiobjetivo\n",
    "\n",
    "- Samuel Augusto Hernandez 202213772\n",
    "- Tomas Alberto Rodriguez 2022128686"
   ]
  },
  {
   "cell_type": "markdown",
   "id": "85be32f1",
   "metadata": {},
   "source": [
    "## Problema 1: Optimización Multiobjetivo en Distribución de Recursos para Misión Humanitaria"
   ]
  },
  {
   "cell_type": "markdown",
   "id": "0e937009",
   "metadata": {},
   "source": [
    "### Formulación del modelo Multiobjetivo\n",
    "\n",
    "#### Conjuntos\n",
    "\n",
    "$$ R = \\{R_1,R_2,R_3,R_4,R_5\\}$$\n",
    "$$ A = \\{A_1,A_2,A_3,A_4\\}$$\n",
    "$$ Z = \\{Z_1,Z_2,Z_3,Z_4\\}$$\n",
    "\n",
    "#### Parámetros\n",
    "\n",
    "Recursos:\n",
    "\n",
    "Valor de impacto (miles USD/TON):\n",
    "$$ Va_r: \\forall r \\in R $$\n",
    "\n",
    "Peso(TON/unidad):\n",
    "$$ W_r: \\forall r \\in R$$\n",
    "\n",
    "Volumen(m^3/unidad):\n",
    "$$ V_r: \\forall r \\in R$$\n",
    "\n",
    "Disponibilidad(unidades):\n",
    "$$ D_r: \\forall r \\in R$$\n",
    "\n",
    "Aviones:\n",
    "\n",
    "Capacidad Peso (TON):\n",
    "$$ CP_a: \\forall a \\in A$$\n",
    "\n",
    "Capacidad Volumen (m^3):\n",
    "$$ CV_a: \\forall a \\in A$$\n",
    "\n",
    "Costo Fijo (miles UDS):\n",
    "$$ CF_a: \\forall a \\in A$$\n",
    "\n",
    "Costo Variable (miles UDS/km):\n",
    "$$ C_a: \\forall a \\in A$$\n",
    "\n",
    "Zonas:\n",
    "\n",
    "\n",
    "\n",
    "#### Variables de decision\n",
    "\n",
    "#### Funciones objetivo\n",
    "\n",
    "#### Restricciones\n",
    "\n",
    "Ejemplo de lab anterior\n",
    "#### Variable de desicion \n",
    "$$ x_{ij} \\in \\{0,1\\} $$\n",
    "##### Funcion Objetivo\n",
    "$$ MAX(\\sum_{i\\in R} \\sum_{j\\in A} x_{ij} \\cdot valor_i) $$\n",
    "##### Restricciones\n",
    "$$ \\sum_{i\\in R} x_{ij} \\cdot Peso_i \\leq Peso_j \\ \\forall j \\in A$$\n",
    "$$ \\sum_{i\\in R} x_{ij} \\cdot Volumen_i \\leq Volumen_j \\ \\forall j \\in A$$\n",
    "$$ \\sum_{j \\in A} x_{ij} \\leq 1 \\ \\forall i \\in R$$\n",
    "\n",
    "- Seguridad Medicamentos\n",
    "\n",
    "$$ x_{21} = 0$$\n",
    "\n",
    "- Compatibilidad equipos medicos y agua\n",
    "\n",
    "$$ j_1 / x_{3j_1} = 1 \\wedge j_2 /  x_{4j_2} = 1 \\rightarrow j_1 \\neq j_2$$\n",
    "\n",
    "Fin ejemplo lab anterior\n",
    "\n",
    "#### Modelo de optimización\n",
    "\n",
    "\n",
    "### Implementación del modelo"
   ]
  },
  {
   "cell_type": "code",
   "execution_count": 7,
   "id": "aeae3a1f",
   "metadata": {},
   "outputs": [],
   "source": [
    "#codigo"
   ]
  },
  {
   "cell_type": "markdown",
   "id": "be931bd0",
   "metadata": {},
   "source": [
    "#### Visualizacion del frente de Pareto"
   ]
  },
  {
   "cell_type": "code",
   "execution_count": 8,
   "id": "69990fa7",
   "metadata": {},
   "outputs": [],
   "source": [
    "#codigo"
   ]
  },
  {
   "cell_type": "markdown",
   "id": "437cee80",
   "metadata": {},
   "source": [
    "### Analisis"
   ]
  },
  {
   "cell_type": "markdown",
   "id": "3ea591ea",
   "metadata": {},
   "source": [
    "## Problema 2: Optimización Multiobjetivo en Planificación de Rutas de Inspección"
   ]
  },
  {
   "cell_type": "markdown",
   "id": "c1b93904",
   "metadata": {},
   "source": [
    "### Formulación del modelo Multiobjetivo\n",
    "\n",
    "#### Conjuntos\n",
    "\n",
    "#### Parámetros\n",
    "\n",
    "#### Variables de decision\n",
    "\n",
    "#### Funciones objetivo\n",
    "\n",
    "#### Restricciones\n",
    "\n",
    "### Modelo de optimización\n",
    "\n",
    "\n",
    "### Implementación del modelo"
   ]
  },
  {
   "cell_type": "code",
   "execution_count": 9,
   "id": "767f2538",
   "metadata": {},
   "outputs": [],
   "source": [
    "#codigo"
   ]
  },
  {
   "cell_type": "markdown",
   "id": "de3f9eb1",
   "metadata": {},
   "source": [
    "#### Visulizacion del frente de Pareto"
   ]
  },
  {
   "cell_type": "code",
   "execution_count": 10,
   "id": "c1d02c9f",
   "metadata": {},
   "outputs": [],
   "source": [
    "#codigo"
   ]
  },
  {
   "cell_type": "markdown",
   "id": "102f3bd2",
   "metadata": {},
   "source": [
    "### Analisis"
   ]
  }
 ],
 "metadata": {
  "kernelspec": {
   "display_name": "pyomo_env",
   "language": "python",
   "name": "python3"
  },
  "language_info": {
   "codemirror_mode": {
    "name": "ipython",
    "version": 3
   },
   "file_extension": ".py",
   "mimetype": "text/x-python",
   "name": "python",
   "nbconvert_exporter": "python",
   "pygments_lexer": "ipython3",
   "version": "3.9.21"
  }
 },
 "nbformat": 4,
 "nbformat_minor": 5
}
