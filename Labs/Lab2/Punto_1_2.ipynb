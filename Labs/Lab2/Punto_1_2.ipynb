{
 "cells": [
  {
   "cell_type": "markdown",
   "metadata": {},
   "source": [
    "# LAB 2 MOS: Modelo Avanzado\n",
    "\n",
    "- Samuel Augusto Hernandez 202213772\n",
    "- Tomas Alberto Rodriguez 2022128686"
   ]
  },
  {
   "cell_type": "markdown",
   "metadata": {},
   "source": [
    "## Problema 1: Distribucion optima de recursos en una mision humanitaria"
   ]
  },
  {
   "cell_type": "markdown",
   "metadata": {},
   "source": [
    "### Preprocesamiento de datos\n",
    "\n",
    "Los recursos se miden por toneladas para el peso. Se pasara a kilogramos para manejar correctamente el fraccionamiento de estos.\n",
    "Para manejar los equipo medicos, se definira por cantidad de fracciones posibles. Solo se puede cargar 300kg juntos, no es mas divisible que eso. Por lo tanto, hay 66 unidades de equipo medico (se ignora el resto, que son 200kg y no se pueden enviar por si solos)"
   ]
  },
  {
   "cell_type": "code",
   "execution_count": 107,
   "metadata": {},
   "outputs": [],
   "source": [
    "from pyomo.environ import *\n",
    "from tabulate import tabulate\n",
    "import matplotlib.pyplot as plt\n",
    "import numpy as np\n",
    "\n",
    "t = 1000\n",
    "recursos = {\n",
    "    'Alimentos': {'valor': 50, 'peso': 15*t, 'volumen': 8},\n",
    "    'Medicinas': {'valor': 100, 'peso': 5*t, 'volumen': 2},\n",
    "    'Agua': {'valor': 60, 'peso': 18*t, 'volumen': 12},\n",
    "    'Mantas': {'valor': 40, 'peso': 10*t, 'volumen': 6}\n",
    "}\n",
    "equipo = {'valor': 120, 'unidades': 66, 'volumen': 8}\n",
    "aviones = {\n",
    "    'A1': {'peso_max': 30*t, 'volumen_max': 25},\n",
    "    'A2': {'peso_max': 42*t, 'volumen_max': 30},\n",
    "    'A3': {'peso_max': 50*t, 'volumen_max': 35},\n",
    "    \n",
    "}"
   ]
  },
  {
   "cell_type": "markdown",
   "metadata": {},
   "source": [
    "### Definicion del modelo matematico\n",
    "\n",
    "#### Conjuntos\n",
    "\n",
    "Recursos: $$ R = \\{R1,R_2,R_3,R_4\\}$$\n",
    "$$ \\forall i \\in R$$\n",
    "Recurso equipo medico: $$ E = \\{E_1\\}$$\n",
    "\n",
    "Aviones: $$ A = \\{A_1,A_2,A_3\\}$$\n",
    "$$ \\forall j \\in A$$\n",
    "\n",
    "#### Parametros\n",
    "Aviones:\n",
    "Capacidad en kg de cada avion\n",
    "$$ W_j: \\forall j \\in A$$\n",
    "Capacidad en m^3 de cada avion\n",
    "$$ V_j: \\forall j \\in A$$\n",
    "\n",
    "Recursos:\n",
    "peso disponible de cada recurso \n",
    "$$ w_i: \\forall i \\in R$$\n",
    "volumen disponible de cada recurso \n",
    "$$ v_i: \\forall i \\in R$$\n",
    "valor de cada recurso\n",
    "$$ val_i: \\forall i \\in R$$\n",
    "\n",
    "Equipo medico:\n",
    "\n",
    "U: unidades de equipo medico disponible para transportar\n",
    "\n",
    "V_e: Valor de transportar el equipo medico\n",
    "\n",
    "#### Variables de decision\n",
    "\n",
    "Kilogramos de recurso i que viajan en el avion j\n",
    "$$ x_{ij} \\ge 0 \\in N$$\n",
    "\n",
    "Unidades de equipos medico que viajan en el avion j\n",
    "$$ y_{j} \\ge 0 \\in N$$\n",
    "\n",
    "Valor que indica si el avión j lleva equipo medico\n",
    "$$ z_{j} \\in {0,1} $$\n",
    "\n",
    "#### Funcion objetivo\n",
    "\n",
    "$$ MAX(\\sum_{i\\in R} \\sum_{j\\in A} x_{ij} \\cdot val_i / w_i + \\sum_{j\\in A} y{j} * V_e / U)$$\n",
    "\n",
    "La fracción de valor que se transporta de cada recurso en cada avion (se maximiza)\n",
    "\n",
    "#### Restricciones\n",
    "\n",
    "Disponibilidad de cada recurso: No se mandan mas kilogramos de los que se tienen de cada recurso, ni mas unidades de equipo medico\n",
    "\n",
    "$$ \\sum_{j\\in A} x_{ij} \\leq w_i \\ , \\forall i \\in R$$\n",
    "$$ \\sum_{j\\in A}y_{j} \\leq U \\$$\n",
    "\n",
    "Capacidad de los aviones: Tanto en peso como volumen\n",
    "\n",
    "$$ (\\sum_{i\\in R} x_{ij}) + y_{j} \\cdot 300 \\leq W_j , \\forall j \\in A$$\n",
    "$$ (\\sum_{i\\in R} x_{ij} \\cdot v_i / w_i) + (y_{j}/U) * 10   \\leq V_j , \\forall j \\in A$$\n",
    "\n",
    "No medicinas en avion 1:\n",
    "\n",
    "$$ x_{2,1} = 0 $$\n",
    "\n",
    "Incompatibilidad de agua y equipo medicos:\n",
    "\n",
    "$$ x_{3,j} \\leq (1-z_{j}) \\cdot W_j , \\forall j \\in A $$\n",
    "\n",
    "Presencia de equipo medico\n",
    "\n",
    "$$ y_{j} \\leq U \\cdot z_{j} , \\forall j \\in A $$\n",
    "\n",
    "#### Tipo de problema\n"
   ]
  },
  {
   "cell_type": "markdown",
   "metadata": {},
   "source": [
    "### Codigo en pyomo"
   ]
  },
  {
   "cell_type": "code",
   "execution_count": 108,
   "metadata": {},
   "outputs": [
    {
     "name": "stdout",
     "output_type": "stream",
     "text": [
      "370.0\n"
     ]
    }
   ],
   "source": [
    "model = ConcreteModel()\n",
    "\n",
    "# Conjuntos y parametros\n",
    "\n",
    "model.R = Set(initialize=['Alimentos', 'Medicinas', 'Agua', 'Mantas'])\n",
    "model.A = Set(initialize=['A1', 'A2', 'A3'])\n",
    "\n",
    "# Variables de decision\n",
    "\n",
    "model.x = Var(model.R, model.A, domain=NonNegativeIntegers)\n",
    "model.y = Var(model.A, domain=NonNegativeIntegers)\n",
    "model.z = Var(model.A, domain=Binary)\n",
    "\n",
    "# Funcion objetivo\n",
    "\n",
    "def obj_rule(model):\n",
    "    return sum(model.x[i, j] * recursos[i]['valor'] / recursos[i]['peso'] for i in model.R for j in model.A) + \\\n",
    "           sum(model.y[j] * equipo['valor'] / equipo['unidades'] for j in model.A)\n",
    "\n",
    "model.obj = Objective(rule=obj_rule, sense=maximize)\n",
    "\n",
    "# Restricciones\n",
    "\n",
    "model.restriccion_disponibilidad = ConstraintList()\n",
    "for i in model.R:\n",
    "    model.restriccion_disponibilidad.add(\n",
    "        sum(model.x[i, j] for j in model.A) <= recursos[i]['peso']\n",
    "    )\n",
    "model.restriccion_disponibilidad_e = Constraint(expr=sum(model.y[j] for j in model.A) <= 66)\n",
    "\n",
    "model.restriccion_peso = ConstraintList()\n",
    "for j in model.A:\n",
    "    model.restriccion_peso.add(\n",
    "        sum(model.x[i, j] for i in model.R) + model.y[j]*300 <= aviones[j]['peso_max']\n",
    "    )\n",
    "\n",
    "model.restriccion_volumen = ConstraintList()\n",
    "for j in model.A:\n",
    "    model.restriccion_volumen.add(\n",
    "        sum(model.x[i, j] * recursos[i]['volumen']/recursos[i]['peso'] for i in model.R) + (model.y[j]/66)*10 <= aviones[j]['volumen_max']\n",
    "    )\n",
    "\n",
    "model.restriccion_compatibilidad = Constraint(expr=model.x['Medicinas', 'A1'] == 0)\n",
    "\n",
    "model.restriccion_incompatibilidad = ConstraintList()\n",
    "for j in model.A:\n",
    "    model.restriccion_incompatibilidad.add(\n",
    "        model.x[\"Agua\",j] <= (1 - model.z[j]) * aviones[j][\"peso_max\"]\n",
    "    )\n",
    "\n",
    "model.presencia_equipo = ConstraintList()\n",
    "for j in model.A:\n",
    "    model.presencia_equipo.add(\n",
    "        model.y[j] <= equipo[\"unidades\"] * model.z[j]\n",
    "    ) \n",
    "\n",
    "# Solucionarlo\n",
    "solver = SolverFactory('glpk')\n",
    "solver.solve(model)\n",
    "print(model.obj())"
   ]
  },
  {
   "cell_type": "code",
   "execution_count": 109,
   "metadata": {},
   "outputs": [],
   "source": [
    "asignacion_aviones = {j: {'Recursos': [], 'Peso Usado': 0, 'Volumen Usado': 0} for j in model.A}\n",
    "\n",
    "# Recopilar los resultados\n",
    "for i in model.R:\n",
    "    for j in model.A:\n",
    "        if model.x[i, j].value > 0:\n",
    "            asignacion_aviones[j]['Recursos'].append(i)\n",
    "            asignacion_aviones[j]['Peso Usado'] += model.x[i, j].value\n",
    "            asignacion_aviones[j]['Volumen Usado'] += model.x[i, j].value * recursos[i]['volumen'] / recursos[i]['peso']\n",
    "\n",
    "# Incluir equipo médico en la asignación\n",
    "for j in model.A:\n",
    "    if model.y[j].value > 0:\n",
    "        asignacion_aviones[j]['Recursos'].append('Equipo Médico')\n",
    "        asignacion_aviones[j]['Peso Usado'] += model.y[j].value * 300\n",
    "        asignacion_aviones[j]['Volumen Usado'] += model.y[j].value * equipo['volumen'] / equipo['unidades']\n"
   ]
  },
  {
   "cell_type": "code",
   "execution_count": 110,
   "metadata": {},
   "outputs": [
    {
     "name": "stdout",
     "output_type": "stream",
     "text": [
      "+---------+----------------------------------+-------------------+-----------------------+\n",
      "| Avión   | Recursos Asignados               |   Peso Usado (kg) |   Volumen Usado (m^3) |\n",
      "+=========+==================================+===================+=======================+\n",
      "| A1      | Alimentos, Mantas, Equipo Médico |             30000 |               14.1067 |\n",
      "+---------+----------------------------------+-------------------+-----------------------+\n",
      "| A2      | Alimentos, Medicinas, Agua       |             37800 |               21.8933 |\n",
      "+---------+----------------------------------+-------------------+-----------------------+\n",
      "| A3      |                                  |                 0 |                0      |\n",
      "+---------+----------------------------------+-------------------+-----------------------+\n"
     ]
    }
   ],
   "source": [
    "# Mostrar la asignación de recursos por avión\n",
    "table_data = []\n",
    "for j in model.A:\n",
    "    row = [j, \n",
    "           ', '.join(asignacion_aviones[j]['Recursos']), \n",
    "           asignacion_aviones[j]['Peso Usado'], \n",
    "           asignacion_aviones[j]['Volumen Usado']]\n",
    "    table_data.append(row)\n",
    "\n",
    "headers = [\"Avión\", \"Recursos Asignados\", \"Peso Usado (kg)\", \"Volumen Usado (m^3)\"]\n",
    "print(tabulate(table_data, headers=headers, tablefmt=\"grid\"))"
   ]
  },
  {
   "cell_type": "code",
   "execution_count": 111,
   "metadata": {},
   "outputs": [
    {
     "name": "stdout",
     "output_type": "stream",
     "text": [
      "+---------------+-----------+-----------+\n",
      "| Recurso       |   Avión 1 |   Avión 2 |\n",
      "+===============+===========+===========+\n",
      "| Alimentos     |       200 |     14800 |\n",
      "+---------------+-----------+-----------+\n",
      "| Medicinas     |         0 |      5000 |\n",
      "+---------------+-----------+-----------+\n",
      "| Agua          |         0 |     18000 |\n",
      "+---------------+-----------+-----------+\n",
      "| Mantas        |     10000 |         0 |\n",
      "+---------------+-----------+-----------+\n",
      "| Equipo Médico |     19800 |         0 |\n",
      "+---------------+-----------+-----------+\n"
     ]
    }
   ],
   "source": [
    "# Mostrar la asignación de recursos individuales por avión\n",
    "tabla_peso_enviado = []\n",
    "\n",
    "recursos_lista = list(model.R) + [\"Equipo Médico\"]\n",
    "for i in recursos_lista: \n",
    "    fila = [i] \n",
    "    cantidad_avion1 = 0\n",
    "    cantidad_avion2 = 0\n",
    "\n",
    "    for j in model.A:\n",
    "        if i == 'Equipo Médico':  # Para el equipo médico\n",
    "            cantidad = model.y[j].value * 300\n",
    "        else:  # Para los demás recursos\n",
    "            cantidad = model.x[i, j].value\n",
    "\n",
    "        if j == 'A1':\n",
    "            cantidad_avion1 = cantidad\n",
    "        elif j == 'A2':\n",
    "            cantidad_avion2 = cantidad\n",
    "\n",
    "    fila.append(cantidad_avion1)  # Añadimos la cantidad de Avión A a la fila\n",
    "    fila.append(cantidad_avion2)\n",
    "\n",
    "    tabla_peso_enviado.append(fila)  # Añadimos la fila a la tabla\n",
    "\n",
    "# Mostrar la tabla con tabulate\n",
    "headers = [\"Recurso\", \"Avión 1\", \"Avión 2\"]\n",
    "print(tabulate(tabla_peso_enviado, headers=headers, tablefmt=\"grid\"))"
   ]
  },
  {
   "cell_type": "code",
   "execution_count": 112,
   "metadata": {},
   "outputs": [
    {
     "data": {
      "image/png": "[encoded data removed]",
      "text/plain": [
       "<Figure size 800x600 with 1 Axes>"
      ]
     },
     "metadata": {},
     "output_type": "display_data"
    }
   ],
   "source": [
    "# Datos para la gráfica de peso\n",
    "aviones_lista = ['A1','A2','A3']\n",
    "peso_max=[30000,42000,50000]\n",
    "peso_usado = [asignacion_aviones[j]['Peso Usado'] for j in aviones_lista]\n",
    "\n",
    "\n",
    "# Crear la gráfica de peso\n",
    "fig, ax = plt.subplots(figsize=(8, 6))\n",
    "ax.bar(aviones_lista, peso_usado, label='Peso Usado')\n",
    "ax.bar(aviones_lista, peso_max, alpha=0.2, label='Capacidad Máxima', color='red')\n",
    "\n",
    "ax.set_xlabel('Avión')\n",
    "ax.set_ylabel('Peso (kg)')\n",
    "ax.set_title('Peso Usado vs. Capacidad Máxima por Avión')\n",
    "ax.legend()\n",
    "plt.show()"
   ]
  },
  {
   "cell_type": "code",
   "execution_count": 113,
   "metadata": {},
   "outputs": [
    {
     "data": {
      "image/png": "[encoded data removed]",
      "text/plain": [
       "<Figure size 800x600 with 1 Axes>"
      ]
     },
     "metadata": {},
     "output_type": "display_data"
    }
   ],
   "source": [
    "# Datos para la gráfica de volumen\n",
    "volumen_usado = [asignacion_aviones[j]['Volumen Usado'] for j in aviones_lista]\n",
    "volumen_max = [25,30,35]\n",
    "\n",
    "# Crear la gráfica de volumen\n",
    "fig, ax = plt.subplots(figsize=(8, 6))\n",
    "ax.bar(aviones_lista, volumen_usado, label='Volumen Usado')\n",
    "ax.bar(aviones_lista, volumen_max, alpha=0.2, label='Capacidad Máxima', color='green')\n",
    "\n",
    "ax.set_xlabel('Avión')\n",
    "ax.set_ylabel('Volumen (m³)')\n",
    "ax.set_title('Volumen Usado vs. Capacidad Máxima por Avión')\n",
    "ax.legend()\n",
    "plt.show()"
   ]
  },
  {
   "cell_type": "code",
   "execution_count": 114,
   "metadata": {},
   "outputs": [
    {
     "data": {
      "image/png": "[encoded data removed]",
      "text/plain": [
       "<Figure size 1000x600 with 1 Axes>"
      ]
     },
     "metadata": {},
     "output_type": "display_data"
    }
   ],
   "source": [
    "# Datos para la gráfica de distribución de recursos, incluyendo equipo médico\n",
    "asignaciones = np.zeros((len(aviones_lista), len(recursos_lista)))\n",
    "\n",
    "# Llenamos la matriz con las asignaciones de recursos\n",
    "for i, recurso in enumerate(recursos_lista[:-1]):  # Para los recursos\n",
    "    for j, avion in enumerate(aviones_lista):\n",
    "        asignaciones[j, i] = model.x[recurso, avion].value\n",
    "#Para el equipo medico\n",
    "for j, avion in enumerate(aviones_lista):\n",
    "    asignaciones[j, -1] = model.y[avion].value * 300\n",
    "\n",
    "# Crear la gráfica de barras apiladas\n",
    "fig, ax = plt.subplots(figsize=(10, 6))\n",
    "ax.bar(aviones_lista, asignaciones[:, 0], label=recursos_lista[0])\n",
    "for i in range(1, len(recursos_lista)):\n",
    "    ax.bar(aviones_lista, asignaciones[:, i], bottom=np.sum(asignaciones[:, :i], axis=1), label=recursos_lista[i])\n",
    "\n",
    "ax.set_xlabel('Avión')\n",
    "ax.set_ylabel('Cantidad de Recursos')\n",
    "ax.set_title('Distribución de Recursos por Avión (incluyendo Equipo Médico)')\n",
    "ax.legend(title='Recursos')\n",
    "plt.show()\n"
   ]
  },
  {
   "cell_type": "markdown",
   "metadata": {},
   "source": [
    "### Analisis"
   ]
  },
  {
   "cell_type": "markdown",
   "metadata": {},
   "source": [
    "Al poder dividir en fracciones los recursos (kg), ya no se requiere del tercer avión para enviar todos los recursos.\n",
    "\n",
    "Aun se pueden enviar todos (obteniendo el valor de 370 como antes) y solo en dos aviones que no se llenan por completo entre ambos (tanto en volumen como en peso)\n",
    "\n",
    "Aunque los aviones están casi llenos en términos de peso, hay espacio disponible en volumen que podría aprovecharse mejor"
   ]
  },
  {
   "cell_type": "markdown",
   "metadata": {},
   "source": [
    "## Problema 2: Redes de transporte"
   ]
  },
  {
   "cell_type": "markdown",
   "metadata": {},
   "source": [
    "### Definicion del modelo matematico\n",
    "\n",
    "#### Conjuntos\n",
    "\n",
    "Origen: $$ O = \\{O1,O_2\\}$$\n",
    "$$ \\forall j \\in O$$\n",
    "\n",
    "Destinos: $$ D = \\{D_1,D_2,D_3,D_4,D_5,D_6\\}$$\n",
    "$$ \\forall i \\in D$$\n",
    "\n",
    "#### Parametros\n",
    "Origen:\n",
    "Oferta en toneladas\n",
    "$$ o_j: \\forall j \\in O$$\n",
    "\n",
    "Destino:\n",
    "demanda en toneladas \n",
    "$$ d_i: \\forall i \\in D$$\n",
    "\n",
    "Costos:\n",
    "$$ c_{ij}: \\forall i\\in D, \\forall j\\in O$$\n",
    "\n",
    "#### Variables de decision\n",
    "\n",
    "Toneladas a enviar de desde ciudad j a ciudad i\n",
    "$$ x_{ij} \\in N$$\n",
    "\n",
    "\n",
    "#### Funcion objetivo\n",
    "\n",
    "$$ MIN(\\sum_{i\\in D} \\sum_{j\\in O} x_{ij} \\cdot c_{ij})$$\n",
    "\n",
    "Valor de transportar en total (se minimiza)\n",
    "\n",
    "#### Restricciones\n",
    "\n",
    "Disponibilidad de cada origen: No se mandan mas toneladas de las que se tienen en bodega\n",
    "\n",
    "$$ \\sum_{i\\in D} x_{ij} \\leq o_j \\ , \\forall j \\in O$$\n",
    "\n",
    "Demanda de cada destino: Se manda exactamente la cantidad que se pide\n",
    "\n",
    "$$ \\sum_{j\\in O} x_{ij} = d_i , \\forall i \\in D$$\n",
    "\n",
    "Restricciones especificas:\n",
    "\n",
    "$$ x_{1,1} = 0 $$\n",
    "\n",
    "$$ x_{2,2} = 0 $$\n",
    "\n",
    "No se envia de Bogota a Cali ni de Medellin a Barranquilla\n",
    "\n",
    "$$ x_{ij} \\ge 0 $$\n",
    "\n",
    "\n",
    "#### Tipo de problema\n",
    "LP\n"
   ]
  },
  {
   "cell_type": "markdown",
   "metadata": {},
   "source": [
    "### Codigo en pyomo"
   ]
  },
  {
   "cell_type": "code",
   "execution_count": 115,
   "metadata": {},
   "outputs": [],
   "source": [
    "\n",
    "destino = {\n",
    "    'Cali': {'Bogota': 0, 'Medellin': 2.5, 'demanda': 125},\n",
    "    'Barranquilla': {'Bogota': 2.5, 'Medellin': 0, 'demanda': 175},\n",
    "    'Pasto': {'Bogota': 1.6, 'Medellin': 2.0, 'demanda': 225},\n",
    "    'Tunja': {'Bogota': 1.4, 'Medellin': 1.0, 'demanda': 250},\n",
    "    'Chia': {'Bogota': 0.8, 'Medellin': 1.0, 'demanda': 225},\n",
    "    'Manizales': {'Bogota': 1.4, 'Medellin': 0.8, 'demanda': 200}\n",
    "}\n",
    "origen = {\n",
    "    'Bogota': {'oferta': 550},\n",
    "    'Medellin': {'oferta': 700}   \n",
    "}"
   ]
  },
  {
   "cell_type": "code",
   "execution_count": 116,
   "metadata": {},
   "outputs": [
    {
     "name": "stdout",
     "output_type": "stream",
     "text": [
      "1715.0\n"
     ]
    }
   ],
   "source": [
    "model2 = ConcreteModel()\n",
    "\n",
    "# Conjuntos y parámetros\n",
    "O = ['Bogota', 'Medellin']\n",
    "D = ['Cali', 'Barranquilla', 'Pasto', 'Tunja', 'Chia', 'Manizales']\n",
    "model2.O = origen.keys()\n",
    "model2.D = destino.keys()\n",
    "\n",
    "# Variables de decisión\n",
    "model2.x = Var(model2.O, model2.D, domain=NonNegativeIntegers)\n",
    "\n",
    "# Función objetivo\n",
    "def objective_rule(model):\n",
    "    return sum(model.x[j, i] * destino[i][j] for j in model.O for i in model.D)\n",
    "model2.obj = Objective(rule=objective_rule, sense='minimize')\n",
    "\n",
    "# Restricciones\n",
    "def disponibilidad_rule(model, j):\n",
    "    return sum(model.x[j, i] for i in model.D) <= origen[j]['oferta']\n",
    "model2.disponibilidad = Constraint(model2.O, rule=disponibilidad_rule)\n",
    "\n",
    "def demanda_rule(model, i):\n",
    "    return sum(model.x[j, i] for j in model.O) == destino[i]['demanda']\n",
    "model2.demanda = Constraint(model2.D, rule=demanda_rule)\n",
    "\n",
    "model2.no_bogota_cali = Constraint(expr=model2.x['Bogota', 'Cali'] == 0)\n",
    "model2.no_medellin_barranquilla = Constraint(expr=model2.x['Medellin', 'Barranquilla'] == 0)\n",
    "\n",
    "# Resolver el modelo\n",
    "solver = SolverFactory('glpk')\n",
    "solver.solve(model2)\n",
    "\n",
    "print(model2.obj())"
   ]
  },
  {
   "cell_type": "markdown",
   "metadata": {},
   "source": [
    "### Resultados y analisis"
   ]
  },
  {
   "cell_type": "code",
   "execution_count": 117,
   "metadata": {},
   "outputs": [
    {
     "name": "stdout",
     "output_type": "stream",
     "text": [
      "+--------------+----------+------------+\n",
      "| Destino      |   Bogota |   Medellin |\n",
      "+==============+==========+============+\n",
      "| Cali         |        0 |        125 |\n",
      "+--------------+----------+------------+\n",
      "| Barranquilla |      175 |          0 |\n",
      "+--------------+----------+------------+\n",
      "| Pasto        |      225 |          0 |\n",
      "+--------------+----------+------------+\n",
      "| Tunja        |        0 |        250 |\n",
      "+--------------+----------+------------+\n",
      "| Chia         |      150 |         75 |\n",
      "+--------------+----------+------------+\n",
      "| Manizales    |        0 |        200 |\n",
      "+--------------+----------+------------+\n",
      "| Totales      |      550 |        650 |\n",
      "+--------------+----------+------------+\n"
     ]
    }
   ],
   "source": [
    "# Tabla de envios\n",
    "data_enviado = [\n",
    "    ['Cali', model2.x['Bogota', 'Cali'].value, model2.x['Medellin', 'Cali'].value],\n",
    "    ['Barranquilla', model2.x['Bogota', 'Barranquilla'].value, model2.x['Medellin', 'Barranquilla'].value],\n",
    "    ['Pasto', model2.x['Bogota', 'Pasto'].value, model2.x['Medellin', 'Pasto'].value],\n",
    "    ['Tunja', model2.x['Bogota', 'Tunja'].value, model2.x['Medellin', 'Tunja'].value],\n",
    "    ['Chia', model2.x['Bogota', 'Chia'].value, model2.x['Medellin', 'Chia'].value],\n",
    "    ['Manizales', model2.x['Bogota', 'Manizales'].value, model2.x['Medellin', 'Manizales'].value]\n",
    "]\n",
    "\n",
    "total_bogota = sum(row[1] for row in data_enviado)\n",
    "total_medellin = sum(row[2] for row in data_enviado)\n",
    "\n",
    "data_enviado.append(['Totales', total_bogota, total_medellin])\n",
    "\n",
    "headers = ['Destino', 'Bogota', 'Medellin']\n",
    "table = tabulate(data_enviado, headers, tablefmt='grid')\n",
    "\n",
    "print(table)"
   ]
  },
  {
   "cell_type": "code",
   "execution_count": 118,
   "metadata": {},
   "outputs": [
    {
     "name": "stdout",
     "output_type": "stream",
     "text": [
      "+--------------+----------+------------+\n",
      "| Destino      |   Bogota |   Medellin |\n",
      "+==============+==========+============+\n",
      "| Cali         |        0 |        125 |\n",
      "+--------------+----------+------------+\n",
      "| Barranquilla |      175 |          0 |\n",
      "+--------------+----------+------------+\n",
      "| Pasto        |      225 |          0 |\n",
      "+--------------+----------+------------+\n",
      "| Tunja        |        0 |        250 |\n",
      "+--------------+----------+------------+\n",
      "| Chia         |      150 |         75 |\n",
      "+--------------+----------+------------+\n",
      "| Manizales    |        0 |        200 |\n",
      "+--------------+----------+------------+\n",
      "| Totales      |      550 |        650 |\n",
      "+--------------+----------+------------+\n"
     ]
    }
   ],
   "source": [
    "# Cambio de oferta por 50 toneladas\n",
    "origen = {\n",
    "    'Bogota': {'oferta': 600},\n",
    "    'Medellin': {'oferta': 650}   \n",
    "}\n",
    "\n",
    "# Resolver el modelo con cambio de ofertas\n",
    "solver = SolverFactory('glpk')\n",
    "solver.solve(model2)\n",
    "\n",
    "# Tomar los datos para la tabla\n",
    "data_enviado = [\n",
    "    ['Cali', model2.x['Bogota', 'Cali'].value, model2.x['Medellin', 'Cali'].value],\n",
    "    ['Barranquilla', model2.x['Bogota', 'Barranquilla'].value, model2.x['Medellin', 'Barranquilla'].value],\n",
    "    ['Pasto', model2.x['Bogota', 'Pasto'].value, model2.x['Medellin', 'Pasto'].value],\n",
    "    ['Tunja', model2.x['Bogota', 'Tunja'].value, model2.x['Medellin', 'Tunja'].value],\n",
    "    ['Chia', model2.x['Bogota', 'Chia'].value, model2.x['Medellin', 'Chia'].value],\n",
    "    ['Manizales', model2.x['Bogota', 'Manizales'].value, model2.x['Medellin', 'Manizales'].value]\n",
    "]\n",
    "\n",
    "total_bogota = sum(row[1] for row in data_enviado)\n",
    "total_medellin = sum(row[2] for row in data_enviado)\n",
    "\n",
    "data_enviado.append(['Totales', total_bogota, total_medellin])\n",
    "\n",
    "headers = ['Destino', 'Bogota', 'Medellin']\n",
    "table = tabulate(data_enviado, headers, tablefmt='grid')\n",
    "\n",
    "print(table)"
   ]
  },
  {
   "cell_type": "markdown",
   "metadata": {},
   "source": [
    "Como se observa en ambas tablas, incluso al modificar las ofertas de los orígenes en 50 toneladas, el resultado de la asignación no varía. Esto tiene sentido, ya que en la solución inicial se tomaron 550 toneladas de Bogotá y 650 toneladas de Medellín, lo cual refleja la cantidad utilizada de Medellín en la distribución final. Como el total de la demanda y la oferta en cada ciudad es suficiente para satisfacer las restricciones, el modelo no tiene necesidad de cambiar la asignación, independientemente de las variaciones en las ofertas. Esto demuestra que, en este caso específico, las restricciones de oferta y demanda están equilibradas, y los cambios en las cantidades disponibles no afectan el resultado final.\n",
    "\n",
    "\n",
    "El costo minimo de hacer los transportes de de 1750 USD, usando la distribución que se muestra en la tabla"
   ]
  }
 ],
 "metadata": {
  "kernelspec": {
   "display_name": "pyomo_env",
   "language": "python",
   "name": "python3"
  },
  "language_info": {
   "codemirror_mode": {
    "name": "ipython",
    "version": 3
   },
   "file_extension": ".py",
   "mimetype": "text/x-python",
   "name": "python",
   "nbconvert_exporter": "python",
   "pygments_lexer": "ipython3",
   "version": "3.9.21"
  }
 },
 "nbformat": 4,
 "nbformat_minor": 2
}
