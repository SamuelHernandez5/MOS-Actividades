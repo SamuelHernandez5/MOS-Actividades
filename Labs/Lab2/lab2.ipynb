{
 "cells": [
  {
   "cell_type": "markdown",
   "metadata": {},
   "source": [
    "# LAB 2 MOS: Modelo Avanzado\n",
    "\n",
    "- Samuel Augusto Hernandez 202213772\n",
    "- Tomas Alberto Rodriguez 2022128686"
   ]
  },
  {
   "cell_type": "markdown",
   "metadata": {},
   "source": [
    "## Problema 1: Distribucion optima de recursos en una mision humanitaria"
   ]
  },
  {
   "cell_type": "markdown",
   "metadata": {},
   "source": [
    "### Preprocesamiento de datos\n",
    "\n",
    "Los recursos se miden por toneladas para el peso. Se pasara a kilogramos para manejar correctamente el fraccionamiento de estos.\n",
    "Para manejar los equipo medicos, se definira por cantidad de fracciones posibles. Solo se puede cargar 300kg juntos, no es mas divisible que eso. Por lo tanto, hay 66 unidades de equipo medico (se ignora el resto, que son 200kg y no se pueden enviar por si solos)"
   ]
  },
  {
   "cell_type": "code",
   "execution_count": null,
   "metadata": {},
   "outputs": [],
   "source": [
    "t = 1000\n",
    "recursos = {\n",
    "    'Alimentos': {'valor': 50, 'peso': 15*t, 'volumen': 8},\n",
    "    'Medicinas': {'valor': 100, 'peso': 5*t, 'volumen': 2},\n",
    "    'Agua': {'valor': 60, 'peso': 18*t, 'volumen': 12},\n",
    "    'Mantas': {'valor': 40, 'peso': 10*t, 'volumen': 6}\n",
    "}\n",
    "\n",
    "limites_aviones = {\n",
    "    'A1': {'peso_max': 30*t, 'volumen_max': 25},\n",
    "    'A2': {'peso_max': 42*t, 'volumen_max': 30},\n",
    "    'A3': {'peso_max': 50*t, 'volumen_max': 35},\n",
    "}"
   ]
  },
  {
   "cell_type": "markdown",
   "metadata": {},
   "source": [
    "### Definicion del modelo matematico\n",
    "\n",
    "#### Conjuntos\n",
    "\n",
    "Recursos: $$ R = \\{R1,R_2,R_3,R_4\\}$$\n",
    "$$ \\forall i \\in R$$\n",
    "Recurso discreto: $$ E = \\{E_1\\}$$\n",
    "$$ \\forall k \\in R_d$$\n",
    "Aviones: $$ A = \\{A_1,A_2,A_3\\}$$\n",
    "$$ \\forall j \\in A$$\n",
    "\n",
    "#### Parametros\n",
    "\n",
    "$$ \\forall valor_i \\in R$$\n",
    "$$ \\forall peso_i \\in R$$\n",
    "$$ \\forall volumen_i \\in R$$\n",
    "\n",
    "$$ \\forall cap_j \\in A$$\n",
    "$$ \\forall capv_j \\in A$$\n",
    "\n",
    "$$ \\forall valor_k \\in E$$\n",
    "$$ \\forall unidades_k \\in E$$\n",
    "$$ \\forall volumen_k \\in E$$\n",
    "\n",
    "#### Variables de decision\n",
    "\n",
    "Kilogramos de recurso i que viajan en el avion j\n",
    "$$ x_{ij} \\ge 0$$\n",
    "\n",
    "Unidades de equipos medico que viajan en el avion j\n",
    "$$ y_{j} \\ge 0 \\in N$$\n",
    "\n",
    "#### Funcion objetivo\n",
    "\n",
    "$$ MAX(\\sum_{i\\in R} \\sum_{j\\in A} x_{ij} \\cdot valor_i / peso_i + \\sum_{j\\in A} y{j} * valor_k / unidades_k)$$\n",
    "\n",
    "#### Restricciones\n",
    "\n",
    "#### Tipo de problema"
   ]
  },
  {
   "cell_type": "markdown",
   "metadata": {},
   "source": [
    "### Codigo en pyomo"
   ]
  },
  {
   "cell_type": "markdown",
   "metadata": {},
   "source": [
    "### Resultados y analisis"
   ]
  },
  {
   "cell_type": "markdown",
   "metadata": {},
   "source": [
    "## Problema 2: Redes de transporte"
   ]
  },
  {
   "cell_type": "markdown",
   "metadata": {},
   "source": [
    "### Definicion del modelo matematico"
   ]
  },
  {
   "cell_type": "markdown",
   "metadata": {},
   "source": [
    "### Codigo en pyomo"
   ]
  },
  {
   "cell_type": "markdown",
   "metadata": {},
   "source": [
    "### Resultados y analisis"
   ]
  },
  {
   "cell_type": "markdown",
   "metadata": {},
   "source": [
    "## Problema 3: Cubrimiento del tablero con damas"
   ]
  },
  {
   "cell_type": "markdown",
   "metadata": {},
   "source": [
    "### Generacion matriz de cobertura"
   ]
  },
  {
   "cell_type": "markdown",
   "metadata": {},
   "source": [
    "### Definicion del modelo matematico"
   ]
  },
  {
   "cell_type": "markdown",
   "metadata": {},
   "source": [
    "### Codigo en pyomo"
   ]
  },
  {
   "cell_type": "markdown",
   "metadata": {},
   "source": [
    "### Resultados y analisis"
   ]
  },
  {
   "cell_type": "markdown",
   "metadata": {},
   "source": [
    "## Problema 4: Ruta de minimo costo en una red de nodos moviles inalambricos"
   ]
  },
  {
   "cell_type": "markdown",
   "metadata": {},
   "source": [
    "### Prepocesamiento de datos"
   ]
  },
  {
   "cell_type": "markdown",
   "metadata": {},
   "source": [
    "### Definicion del modelo matematico"
   ]
  },
  {
   "cell_type": "markdown",
   "metadata": {},
   "source": [
    "### Codigo en pyomo"
   ]
  },
  {
   "cell_type": "markdown",
   "metadata": {},
   "source": [
    "### Resultados y analisis"
   ]
  },
  {
   "cell_type": "markdown",
   "metadata": {},
   "source": [
    "## Problema 5: Rutas optimas para equipos de inspeccion de infraestructura en Colombia"
   ]
  },
  {
   "cell_type": "markdown",
   "metadata": {},
   "source": [
    "### Preprocesamiento de datos"
   ]
  },
  {
   "cell_type": "markdown",
   "metadata": {},
   "source": [
    "### Formulacion para un unico viajero"
   ]
  },
  {
   "cell_type": "markdown",
   "metadata": {},
   "source": [
    "### Extension a multiples viajeros"
   ]
  },
  {
   "cell_type": "markdown",
   "metadata": {},
   "source": [
    "### Resultados y analisis"
   ]
  },
  {
   "cell_type": "markdown",
   "metadata": {},
   "source": [
    "### Visualizacion"
   ]
  }
 ],
 "metadata": {
  "kernelspec": {
   "display_name": "pyomo_env",
   "language": "python",
   "name": "python3"
  },
  "language_info": {
   "codemirror_mode": {
    "name": "ipython",
    "version": 3
   },
   "file_extension": ".py",
   "mimetype": "text/x-python",
   "name": "python",
   "nbconvert_exporter": "python",
   "pygments_lexer": "ipython3",
   "version": "3.9.21"
  }
 },
 "nbformat": 4,
 "nbformat_minor": 2
}
