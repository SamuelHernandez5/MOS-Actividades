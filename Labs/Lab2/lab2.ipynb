{
 "cells": [
  {
   "cell_type": "markdown",
   "metadata": {},
   "source": [
    "# LAB 2 MOS: Modelado Matematico Avanzado\n",
    "\n",
    "- Samuel Augusto Hernandez 202213772\n",
    "- Tomas Alberto Rodriguez 2022128686"
   ]
  },
  {
   "cell_type": "markdown",
   "metadata": {},
   "source": [
    "## Problema 3"
   ]
  },
  {
   "cell_type": "markdown",
   "metadata": {},
   "source": [
    "### Modelo Matematico"
   ]
  },
  {
   "cell_type": "markdown",
   "metadata": {},
   "source": [
    "#### 1.1. Conjunto de Casillas\n",
    "Sea:\n",
    "$$\n",
    "\\text{S} = \\{(i,j) \\mid i = 1,\\dots,8;\\, j = 1,\\dots,8\\}\n",
    "$$\n",
    "el conjunto de todas las posiciones (casillas) del tablero $8 \\times 8$.\n",
    "\n",
    "#### 1.2. Función de Cobertura\n",
    "Una **dama** ubicada en $(r, c)$ (fila $r$, columna $c$) cubre todas las casillas que estén:\n",
    "1. En la **misma fila** $r$.\n",
    "2. En la **misma columna** $c$.\n",
    "3. En la **misma diagonal principal** (todas las casillas $(i,j)$ donde $i-j = r-c$).\n",
    "4. En la **misma diagonal secundaria** (todas las casillas $(i,j)$ donde $i+j = r+c$).\n",
    "\n",
    "\n",
    "#### 1.3. Parámetro de Cobertura\n",
    "Podemos definir un parámetro (o diccionario) de forma genérica como:\n",
    "\n",
    "$$\n",
    "\\text{cover}[(i,j),(r,c)] = \n",
    "\\begin{cases}\n",
    "1 & \\text{si una dama en }(r,c) \\text{ cubre } (i,j),\\\\\n",
    "0 & \\text{en caso contrario}.\n",
    "\\end{cases}\n",
    "$$\n",
    "\n",
    "En la implementación, uno puede:\n",
    "- Preprocesar todas las parejas $(i,j)$ y $(r,c)$.\n",
    "- Determinar si $(r,c)$ cubre $(i,j)$ con las reglas de la dama descritas.\n",
    "- Guardar un `1` o `0` en un diccionario o matriz 4D, dependiendo del diseño de datos.\n",
    "\n",
    "#### 1.4. Variables de Decisión\n",
    "Definimos variables binarias:\n",
    "$$\n",
    "x_{r,c} = \n",
    "\\begin{cases}\n",
    "1 & \\text{si se ubica una dama en la casilla }(r,c),\\\\\n",
    "0 & \\text{en caso contrario}.\n",
    "\\end{cases}\n",
    "$$\n",
    "donde $r,c \\in \\{1,\\dots,8\\}$.\n",
    "\n",
    "#### 1.5. Restricciones\n",
    "Para asegurar que **cada** casilla del tablero $(i,j)$ esté cubierta por **al menos** una dama, imponemos:\n",
    "$$\n",
    "\\sum_{r=1}^8 \\sum_{c=1}^8 \\text{cover}[(i,j),(r,c)] \\cdot x_{r,c} \\;\\;\\geq\\; 1 \n",
    "\\quad \\forall\\,(i,j) \\in \\text{S}.\n",
    "$$\n",
    "Esto significa que la suma de todas las damas que cubren $(i,j)$ debe ser al menos 1.\n",
    "\n",
    "#### 1.6. Función Objetivo\n",
    "Minimizar el número total de damas colocadas:\n",
    "$$\n",
    "\\min \\sum_{r=1}^8 \\sum_{c=1}^8 x_{r,c}.\n",
    "$$\n",
    "\n",
    "#### 1.7. Tipo de Problema\n",
    "Se trata de un **Problema de Programación Entera Binaria** (BILP), dado que las variables $x_{r,c}$ son binarias y las restricciones son lineales."
   ]
  },
  {
   "cell_type": "markdown",
   "metadata": {},
   "source": [
    "### Codigo en Pyomo"
   ]
  },
  {
   "cell_type": "code",
   "execution_count": 37,
   "metadata": {},
   "outputs": [],
   "source": [
    "from pyomo.environ import ConcreteModel, Var, Objective, Constraint, SolverFactory, Binary\n",
    "import pygame\n",
    "import sys"
   ]
  },
  {
   "cell_type": "markdown",
   "metadata": {},
   "source": [
    "#### Preprocesamiento:\n",
    "En este paso, se buscara identificar para cada casilla $(i, j)$ del tablero, las posiciones $(r, c)$ en las que si hubiera una dama, **cubriría** (o atacaría) dicha casilla $(i, j)$.\n",
    "\n",
    "1. **Tamaño del tablero (`N`):** Fijamos $N = 8$.  \n",
    "2. **Conjunto de casillas (`S`):** Es una lista de tuplas con todas las posiciones $(i, j)$ donde $1 \\leq i, j \\leq 8$.  \n",
    "3. **Diccionario de cobertura (`cover`):** \n",
    "   - Para cada casilla $(i, j)$, creamos una clave en el diccionario `cover[(i, j)]`.  \n",
    "   - Iteramos por **todas** las posiciones posibles $(r, c)$ y verificamos si una dama en $(r, c)$ cubriría $(i, j)$. Esto sucede si:\n",
    "     - $i$ y $r$ están en la misma fila,  \n",
    "     - $j$ y $c$ están en la misma columna,  \n",
    "     - $i - j = r - c$ (misma diagonal principal),  \n",
    "     - $i + j = r + c$ (misma diagonal secundaria).  \n",
    "   - Si se cumple **alguna** de estas cuatro condiciones, agregamos $(r, c)$ a la lista `cover[(i, j)]`.\n",
    "\n",
    "**Resultado del preprocesamiento:**  \n",
    "- `cover[(i, j)]` nos indica **todas** las casillas donde, si colocamos una dama, se cubre la casilla $(i, j)$.  \n",
    "\n",
    "Este diccionario se utilizará para definir las **restricciones** en el modelo matemático."
   ]
  },
  {
   "cell_type": "code",
   "execution_count": 38,
   "metadata": {},
   "outputs": [],
   "source": [
    "N = 8  \n",
    "\n",
    "S = [(i, j) for i in range(1, N+1) for j in range(1, N+1)]\n",
    "\n",
    "cover = {}\n",
    "for (i, j) in S:\n",
    "    cover[(i, j)] = []\n",
    "    for (r, c) in S:\n",
    "        same_row = (i == r)\n",
    "        same_col = (j == c)\n",
    "        same_main_diag = (i - j == r - c)  \n",
    "        same_sec_diag  = (i + j == r + c) \n",
    "        if same_row or same_col or same_main_diag or same_sec_diag:\n",
    "            cover[(i, j)].append((r, c))\n"
   ]
  },
  {
   "cell_type": "markdown",
   "metadata": {},
   "source": [
    "#### Definicion del Model\n",
    "\n",
    "1. **Creación del modelo**: `model = ConcreteModel()` inicializa un modelo Pyomo.\n",
    "2. **Definición de las variables**: `model.x = Var(S, domain=Binary)` crea una variable binaria por cada tupla $(r,c)$ en $S$.  \n",
    "3. **Función objetivo**: `model.obj = Objective(...)` define la suma de todas las variables `x[(r,c)]`, a minimizar.  \n",
    "4. **Restricción de cobertura**: `cover_constraint_rule(m, i, j)` construye la suma de las variables que pueden cubrir la casilla $(i, j)$. Esta suma debe ser mayor o igual a 1.\n",
    "   - Se utilizan exactamente las $(r,c)$ que aparecen en `cover[(i, j)]`.  \n"
   ]
  },
  {
   "cell_type": "code",
   "execution_count": 39,
   "metadata": {},
   "outputs": [],
   "source": [
    "model = ConcreteModel()\n",
    "\n",
    "model.x = Var(S, domain=Binary)  # x[(r,c)] = 1 si ponemos dama en (r,c), 0 en caso contrario.\n",
    "\n",
    "def obj_rule(m):\n",
    "    return sum(m.x[(r,c)] for (r,c) in S)\n",
    "\n",
    "model.obj = Objective(rule=obj_rule, sense=1)  \n",
    "\n",
    "def cover_constraint_rule(m, i, j):\n",
    "    return sum(m.x[(r,c)] for (r,c) in cover[(i, j)]) >= 1\n",
    "\n",
    "model.cover_constraints = Constraint(\n",
    "    [(i, j) for (i, j) in S],\n",
    "    rule=lambda m, i, j: cover_constraint_rule(m, i, j)\n",
    ")"
   ]
  },
  {
   "cell_type": "code",
   "execution_count": 40,
   "metadata": {},
   "outputs": [
    {
     "name": "stdout",
     "output_type": "stream",
     "text": [
      "GLPSOL--GLPK LP/MIP Solver 5.0\n",
      "Parameter(s) specified in the command line:\n",
      " --write /tmp/tmpucm9xiww.glpk.raw --wglp /tmp/tmpvlnaaf78.glpk.glp --cpxlp\n",
      " /tmp/tmpksgyiwkx.pyomo.lp\n",
      "Reading problem data from '/tmp/tmpksgyiwkx.pyomo.lp'...\n",
      "/tmp/tmpksgyiwkx.pyomo.lp:1850: warning: lower bound of variable 'x2' redefined\n",
      "/tmp/tmpksgyiwkx.pyomo.lp:1850: warning: upper bound of variable 'x2' redefined\n",
      "64 rows, 64 columns, 1520 non-zeros\n",
      "64 integer variables, all of which are binary\n",
      "1914 lines were read\n",
      "Writing problem data to '/tmp/tmpvlnaaf78.glpk.glp'...\n",
      "1779 lines were written\n",
      "GLPK Integer Optimizer 5.0\n",
      "64 rows, 64 columns, 1520 non-zeros\n",
      "64 integer variables, all of which are binary\n",
      "Preprocessing...\n",
      "64 rows, 64 columns, 1520 non-zeros\n",
      "64 integer variables, all of which are binary\n",
      "Scaling...\n",
      " A: min|aij| =  1.000e+00  max|aij| =  1.000e+00  ratio =  1.000e+00\n",
      "Problem data seem to be well scaled\n",
      "Constructing initial basis...\n",
      "Size of triangular part is 64\n",
      "Solving LP relaxation...\n",
      "GLPK Simplex Optimizer 5.0\n",
      "64 rows, 64 columns, 1520 non-zeros\n",
      "      0: obj =   0.000000000e+00 inf =   6.400e+01 (64)\n",
      "      5: obj =   5.000000000e+00 inf =   0.000e+00 (0)\n",
      "*    90: obj =   2.764423077e+00 inf =   0.000e+00 (0)\n",
      "OPTIMAL LP SOLUTION FOUND\n",
      "Integer optimization begins...\n",
      "Long-step dual simplex will be used\n",
      "+    90: mip =     not found yet >=              -inf        (1; 0)\n",
      "+   474: >>>>>   5.000000000e+00 >=   3.000000000e+00  40.0% (31; 0)\n",
      "+ 21182: mip =   5.000000000e+00 >=     tree is empty   0.0% (0; 1041)\n",
      "INTEGER OPTIMAL SOLUTION FOUND\n",
      "Time used:   0.5 secs\n",
      "Memory used: 0.6 Mb (605334 bytes)\n",
      "Writing MIP solution to '/tmp/tmpucm9xiww.glpk.raw'...\n",
      "137 lines were written\n",
      "\n",
      "Problem: \n",
      "- Name: unknown\n",
      "  Lower bound: 5.0\n",
      "  Upper bound: 5.0\n",
      "  Number of objectives: 1\n",
      "  Number of constraints: 64\n",
      "  Number of variables: 64\n",
      "  Number of nonzeros: 1520\n",
      "  Sense: minimize\n",
      "Solver: \n",
      "- Status: ok\n",
      "  Termination condition: optimal\n",
      "  Statistics: \n",
      "    Branch and bound: \n",
      "      Number of bounded subproblems: 1041\n",
      "      Number of created subproblems: 1041\n",
      "  Error rc: 0\n",
      "  Time: 0.47424936294555664\n",
      "Solution: \n",
      "- number of solutions: 0\n",
      "  number of solutions displayed: 0\n",
      "\n",
      "Número mínimo de damas = 5.0\n",
      "Damas ubicadas en: [(1, 3), (4, 7), (6, 1), (7, 6), (8, 2)]\n"
     ]
    }
   ],
   "source": [
    "solver = SolverFactory('glpk')\n",
    "results = solver.solve(model, tee=True)\n",
    "print(results)\n",
    "\n",
    "print(\"Número mínimo de damas =\", model.obj())\n",
    "\n",
    "solution_positions = [(r,c) for (r,c) in S if model.x[(r,c)].value == 1]\n",
    "print(\"Damas ubicadas en:\", solution_positions)\n"
   ]
  },
  {
   "cell_type": "code",
   "execution_count": 41,
   "metadata": {},
   "outputs": [
    {
     "ename": "SystemExit",
     "evalue": "",
     "output_type": "error",
     "traceback": [
      "An exception has occurred, use %tb to see the full traceback.\n",
      "\u001b[0;31mSystemExit\u001b[0m\n"
     ]
    }
   ],
   "source": [
    "TILE_SIZE = 50\n",
    "\n",
    "def draw_board(screen):\n",
    "    for i in range(N):\n",
    "        for j in range(N):\n",
    "            rect = pygame.Rect(j*TILE_SIZE, i*TILE_SIZE, TILE_SIZE, TILE_SIZE)\n",
    "            if (i+j) % 2 == 0:\n",
    "                color = (255, 255, 255)\n",
    "            else:\n",
    "                color = (100, 100, 100)\n",
    "            pygame.draw.rect(screen, color, rect)\n",
    "\n",
    "def draw_queens(screen, queens_positions):\n",
    "    font = pygame.font.SysFont(None, 40)\n",
    "    for (r,c) in queens_positions:\n",
    "        text = font.render('Q', True, (255,0,0))\n",
    "        screen.blit(text, ( (c-1)*TILE_SIZE + 10, (r-1)*TILE_SIZE + 5 ))\n",
    "\n",
    "def main(queens_positions):\n",
    "    pygame.init()\n",
    "    screen = pygame.display.set_mode((N*TILE_SIZE, N*TILE_SIZE))\n",
    "    clock = pygame.time.Clock()\n",
    "\n",
    "    while True:\n",
    "        for event in pygame.event.get():\n",
    "            if event.type == pygame.QUIT:\n",
    "                pygame.quit()\n",
    "                sys.exit()\n",
    "\n",
    "        screen.fill((0,0,0))\n",
    "        draw_board(screen)\n",
    "        draw_queens(screen, queens_positions)\n",
    "        pygame.display.flip()\n",
    "        clock.tick(30)\n",
    "\n",
    "if __name__ == \"__main__\":\n",
    "    solution_positions = [(1, 3), (4, 7), (6, 1), (7, 6), (8, 2)]\n",
    "\n",
    "    main(solution_positions)\n"
   ]
  },
  {
   "cell_type": "markdown",
   "metadata": {},
   "source": [
    "### Conclusiones\n",
    "\n",
    "El modelo en Pyomo confirma que el número mínimo de damas necesarias para cubrir un tablero de ajedrez $8 \\times 8$ es **5**, con una disposición óptima como $\\{(1,3), (4,7), (6,1), (7,6), (8,2)\\}$. La formulación basada en variables binarias y restricciones de cobertura demostró ser efectiva y eficiente, permitiendo que el solver GLPK encontrara la solución sin dificultades. Aunque la posición exacta de las damas puede variar, la cantidad mínima sigue siendo 5, validando la correcta estructuración del problema. Este enfoque es escalable a tableros más grandes o variantes con restricciones adicionales, lo que lo hace aplicable en otros contextos de *cubrimiento óptimo* en grafos y problemas combinatorios."
   ]
  },
  {
   "cell_type": "markdown",
   "metadata": {},
   "source": [
    "## Problema 4"
   ]
  },
  {
   "cell_type": "markdown",
   "metadata": {},
   "source": [
    "### Modelado Matematico"
   ]
  },
  {
   "cell_type": "markdown",
   "metadata": {},
   "source": [
    "Se busca la **ruta de menor costo** entre los nodos 4 y 6. Una forma clásica de modelar el problema de ruta de mínimo costo (shortest path) es mediante un **modelo de flujo de 1 unidad**, también conocido como *“flow-based formulation”*.\n",
    "\n",
    "#### 1.1 Conjuntos\n",
    "\n",
    "- Conjunto de Nodos\n",
    "\n",
    "$$\\displaystyle N = \\{1,2,3,4,5,6,7\\}$$\n",
    "\n",
    "- Conjunto de arcos dirigidos (pares $(i,j)$ donde existe un enlace.)\n",
    "\n",
    "$$\\displaystyle A = \\{(i,j)\\,\\mid\\, i \\neq j,\\, d_{ij}\\le 20\\}$$\n",
    "\n",
    "\n",
    "#### 1.2 Parámetros\n",
    "\n",
    "**costo** de usar el arco $(i,j)$.\n",
    "\n",
    "$$c_{ij} \\longrightarrow \\ c_{ij} = d_{ij} \\mid \\ d_{ij} \\le 20$$\n",
    "\n",
    "Nodos de **origen** y **destino**: $o = 4$, $t = 6$.\n",
    "\n",
    "#### 1.3 Variables de Decisión\n",
    "Definimos variables binarias:\n",
    "$$\n",
    "x_{i,j} = \n",
    "\\begin{cases}\n",
    "1 & \\text{si se usa el arco}(i,j),\\\\\n",
    "0 & \\text{en caso contrario}.\n",
    "\\end{cases}\n",
    " \\ \\ \\forall (i,j)\\in A\n",
    "$$\n",
    "\n",
    "#### 1.4 Función Objetivo\n",
    "\n",
    "$$\n",
    "\\min \\sum_{(i,j)\\in A} c_{ij} \\cdot x_{ij}.\n",
    "$$\n",
    "\n",
    "Minimiza la **suma de costos** a lo largo de los arcos seleccionados.\n",
    "\n",
    "#### 1.5 Restricciones\n",
    "\n",
    "Para asegurar que sea una **única ruta** desde $o$ hasta $t$, podemos emplear un **modelo de flujo de una unidad**:\n",
    "\n",
    "1. **Balance de flujo** en nodos intermedios $\\neq o,t$:  \n",
    "   $$\n",
    "   \\sum_{j \\,:\\,(i,j)\\in A} x_{ij} \\;-\\;\\sum_{j \\,:\\,(j,i)\\in A} x_{ji}\n",
    "   \\;=\\; 0, \\quad \\forall i \\in N \\setminus \\{o,t\\}.\n",
    "   $$\n",
    "   Lo que entra (suma de $x_{ji}$) es lo mismo que sale (suma de $x_{ij}$).\n",
    "\n",
    "2. **Flujo en nodo origen** $o$:  \n",
    "   $$\n",
    "   \\sum_{j: (s,j) \\in A} x_{sj} = 1\n",
    "   $$  \n",
    "   \n",
    "   El nodo 4 “emite” 1 unidad de flujo hacia afuera.\n",
    "\n",
    "3. **Flujo en nodo destino** $t$:  \n",
    "   $$\n",
    "   \\sum_{j: (j,t) \\in A} x_{jt} = 1\n",
    "   $$\n",
    "   \n",
    "   El nodo 6 recibe esa unidad de flujo.\n",
    "\n",
    "Estas restricciones fuerzan que la “ruta” vaya desde 4 a 6, sin divergencias ni ciclos extra, pues se maneja un único flujo de valor 1.\n",
    "\n",
    "#### 1.6 Tipo de Problema\n",
    "\n",
    "Es un **Problema de Programación Entera Binaria** de rutas (o “Shortest Path Problem” en su versión ILP)."
   ]
  },
  {
   "cell_type": "markdown",
   "metadata": {},
   "source": [
    "### Codigo en Pyomo"
   ]
  },
  {
   "cell_type": "code",
   "execution_count": 59,
   "metadata": {},
   "outputs": [],
   "source": [
    "import math\n",
    "from pyomo.environ import ConcreteModel, Var, Objective, Constraint, SolverFactory, Binary\n",
    "import pandas as pd\n",
    "import networkx as nx\n",
    "import matplotlib.pyplot as plt"
   ]
  },
  {
   "cell_type": "markdown",
   "metadata": {},
   "source": [
    "#### Preprocesamiento:\n",
    "El **objetivo** es obtener la información necesaria (distancias y costos) para construir el modelo. De acuerdo con el enunciado:\n",
    "\n",
    "1. Cada enlace entre dos nodos $i$ y $j$ **existe** únicamente si la distancia euclidiana $d_{ij}$ entre ellos es $\\le 20$.\n",
    "2. El **costo** asociado a cada enlace $(i,j)$ es igual a la distancia $d_{ij}$.\n",
    "3. Se conocen las **coordenadas** de los 7 nodos (tabla dada).\n",
    "\n",
    "##### 2.1 Lectura y Almacenamiento de Coordenadas\n",
    "\n",
    "Suponiendo que tenemos los nodos numerados del 1 al 7, podemos guardar las coordenadas en un diccionario o lista.\n",
    "\n",
    "##### 2.2 Cálculo de Distancia Euclidiana\n",
    "\n",
    "La distancia entre dos nodos $i$ y $j$ con coordenadas $(x_i, y_i)$ y $(x_j, y_j)$ es:\n",
    "\n",
    "$$\n",
    "d_{ij} \\;=\\; \\sqrt{(x_i - x_j)^2 + (y_i - y_j)^2}.\n",
    "$$\n",
    "\n",
    "Podemos generar **todas** las parejas $(i, j)$ con $i < j$ o $i \\neq j$ y calcular la distancia. Luego, **solo** consideraremos un “enlace” si $d_{ij} \\le 20$. En ese caso, definimos el costo $c_{ij} = d_{ij}$.\n",
    "\n",
    "**Resultado del preprocesamiento**:  \n",
    "- Un **diccionario** `cost[(i,j)]` que guarda la distancia euclidiana (costo) si la conexión es posible ($d_{ij} \\le 20$) y, en caso contrario, el par $(i,j)$ no aparecerá en el diccionario (o se ignora).\n"
   ]
  },
  {
   "cell_type": "code",
   "execution_count": 60,
   "metadata": {},
   "outputs": [],
   "source": [
    "coords = {\n",
    "    1: (20,  6),\n",
    "    2: (22,  1),\n",
    "    3: ( 9,  2),\n",
    "    4: ( 3, 25),\n",
    "    5: (21, 10),\n",
    "    6: (29,  2),\n",
    "    7: (14, 12)\n",
    "}\n"
   ]
  },
  {
   "cell_type": "code",
   "execution_count": 61,
   "metadata": {},
   "outputs": [
    {
     "name": "stdout",
     "output_type": "stream",
     "text": [
      "{(1, 2): 5.385164807134504, (1, 3): 11.704699910719626, (1, 5): 4.123105625617661, (1, 6): 9.848857801796104, (1, 7): 8.48528137423857, (2, 1): 5.385164807134504, (2, 3): 13.038404810405298, (2, 5): 9.055385138137417, (2, 6): 7.0710678118654755, (2, 7): 13.601470508735444, (3, 1): 11.704699910719626, (3, 2): 13.038404810405298, (3, 5): 14.422205101855956, (3, 6): 20.0, (3, 7): 11.180339887498949, (4, 7): 17.029386365926403, (5, 1): 4.123105625617661, (5, 2): 9.055385138137417, (5, 3): 14.422205101855956, (5, 6): 11.313708498984761, (5, 7): 7.280109889280518, (6, 1): 9.848857801796104, (6, 2): 7.0710678118654755, (6, 3): 20.0, (6, 5): 11.313708498984761, (6, 7): 18.027756377319946, (7, 1): 8.48528137423857, (7, 2): 13.601470508735444, (7, 3): 11.180339887498949, (7, 4): 17.029386365926403, (7, 5): 7.280109889280518, (7, 6): 18.027756377319946}\n"
     ]
    }
   ],
   "source": [
    "NODOS = list(coords.keys()) \n",
    "\n",
    "cost = {}\n",
    "\n",
    "for i in NODOS:\n",
    "    for j in NODOS:\n",
    "        if i != j:\n",
    "            dx = coords[i][0] - coords[j][0]\n",
    "            dy = coords[i][1] - coords[j][1]\n",
    "            dist = math.sqrt(dx*dx + dy*dy)\n",
    "            if dist <= 20:\n",
    "                cost[(i, j)] = dist\n",
    "\n",
    "print(cost)\n"
   ]
  },
  {
   "cell_type": "markdown",
   "metadata": {},
   "source": [
    "#### Definicion del Model\n",
    "1. **Creación del modelo**:  \n",
    "   Se inicializa un objeto `ConcreteModel()` en Pyomo para contener las variables, función objetivo y restricciones.\n",
    "\n",
    "2. **Definición de las variables**:  \n",
    "   Se crea una variable binaria por cada **arcos $(i,j)$** en `cost.keys()` (que representa todos los enlaces posibles).  \n",
    "   - $ x_{ij} = 1$ si se utiliza el arcos $(i,j)$ en la ruta.  \n",
    "   - $ x_{ij} = 0$ en caso contrario.\n",
    "\n",
    "3. **Función objetivo**:  \n",
    "   Se define como la **suma de los costos** $\\sum c_{ij} \\cdot x_{ij}$, que indica la longitud total de la ruta. El parámetro `sense=1` especifica que se minimiza dicha suma.\n",
    "\n",
    "4. **Restricciones de flujo**:  \n",
    "   - **Nodo origen (4)**: La suma de arcos salientes menos la de arcos entrantes debe ser 1.  \n",
    "   - **Nodo destino (6)**: La suma de arcos salientes menos la de arcos entrantes debe ser -1.  \n",
    "   - **Nodos intermedios**: El flujo neto es 0 (lo que entra sale)."
   ]
  },
  {
   "cell_type": "code",
   "execution_count": 62,
   "metadata": {},
   "outputs": [],
   "source": [
    "ORIGEN = 4\n",
    "DESTINO = 6\n",
    "\n",
    "model = ConcreteModel()\n",
    "\n",
    "model.x = Var(cost.keys(), domain=Binary)\n",
    "\n",
    "def obj_rule(m):\n",
    "    return sum(cost[(i, j)] * m.x[(i, j)] for (i, j) in cost)\n",
    "\n",
    "model.obj = Objective(rule=obj_rule, sense=1) \n",
    "\n",
    "def flujo_balance_rule(m, i):\n",
    "    if i == ORIGEN:\n",
    "        return(sum(model.x[i, j] for j in NODOS if (i, j) in cost) == 1)\n",
    "    elif i == DESTINO:\n",
    "        return(sum(model.x[j, i] for j in NODOS if (j, i) in cost) == 1)\n",
    "    else:\n",
    "        return(sum(model.x[i, j] for j in NODOS if (i, j) in cost) -\n",
    "                       sum(model.x[j, i] for j in NODOS if (j, i) in cost) == 0)\n",
    "\n",
    "model.flujo_balance = Constraint(NODOS, rule=flujo_balance_rule)"
   ]
  },
  {
   "cell_type": "code",
   "execution_count": 63,
   "metadata": {},
   "outputs": [
    {
     "name": "stdout",
     "output_type": "stream",
     "text": [
      "GLPSOL--GLPK LP/MIP Solver 5.0\n",
      "Parameter(s) specified in the command line:\n",
      " --write /tmp/tmpojyjng79.glpk.raw --wglp /tmp/tmp8puoqfr7.glpk.glp --cpxlp\n",
      " /tmp/tmpk_9qw6f2.pyomo.lp\n",
      "Reading problem data from '/tmp/tmpk_9qw6f2.pyomo.lp'...\n",
      "/tmp/tmpk_9qw6f2.pyomo.lp:153: warning: lower bound of variable 'x2' redefined\n",
      "/tmp/tmpk_9qw6f2.pyomo.lp:153: warning: upper bound of variable 'x2' redefined\n",
      "7 rows, 32 columns, 58 non-zeros\n",
      "32 integer variables, all of which are binary\n",
      "185 lines were read\n",
      "Writing problem data to '/tmp/tmp8puoqfr7.glpk.glp'...\n",
      "134 lines were written\n",
      "GLPK Integer Optimizer 5.0\n",
      "7 rows, 32 columns, 58 non-zeros\n",
      "32 integer variables, all of which are binary\n",
      "Preprocessing...\n",
      "6 rows, 31 columns, 56 non-zeros\n",
      "31 integer variables, all of which are binary\n",
      "Scaling...\n",
      " A: min|aij| =  1.000e+00  max|aij| =  1.000e+00  ratio =  1.000e+00\n",
      "Problem data seem to be well scaled\n",
      "Constructing initial basis...\n",
      "Size of triangular part is 6\n",
      "Solving LP relaxation...\n",
      "GLPK Simplex Optimizer 5.0\n",
      "6 rows, 31 columns, 56 non-zeros\n",
      "*     0: obj =   3.505714274e+01 inf =   0.000e+00 (4)\n",
      "*     4: obj =   3.505714274e+01 inf =   0.000e+00 (0)\n",
      "OPTIMAL LP SOLUTION FOUND\n",
      "Integer optimization begins...\n",
      "Long-step dual simplex will be used\n",
      "+     4: mip =     not found yet >=              -inf        (1; 0)\n",
      "+     4: >>>>>   3.505714274e+01 >=   3.505714274e+01   0.0% (1; 0)\n",
      "+     4: mip =   3.505714274e+01 >=     tree is empty   0.0% (0; 1)\n",
      "INTEGER OPTIMAL SOLUTION FOUND\n",
      "Time used:   0.0 secs\n",
      "Memory used: 0.1 Mb (75393 bytes)\n",
      "Writing MIP solution to '/tmp/tmpojyjng79.glpk.raw'...\n",
      "48 lines were written\n",
      "\n",
      "Problem: \n",
      "- Name: unknown\n",
      "  Lower bound: 35.0571427432463\n",
      "  Upper bound: 35.0571427432463\n",
      "  Number of objectives: 1\n",
      "  Number of constraints: 7\n",
      "  Number of variables: 32\n",
      "  Number of nonzeros: 58\n",
      "  Sense: minimize\n",
      "Solver: \n",
      "- Status: ok\n",
      "  Termination condition: optimal\n",
      "  Statistics: \n",
      "    Branch and bound: \n",
      "      Number of bounded subproblems: 1\n",
      "      Number of created subproblems: 1\n",
      "  Error rc: 0\n",
      "  Time: 0.0023088455200195312\n",
      "Solution: \n",
      "- number of solutions: 0\n",
      "  number of solutions displayed: 0\n",
      "\n",
      "Costo mínimo de la ruta = 35.057142743246345\n"
     ]
    }
   ],
   "source": [
    "solver = SolverFactory('glpk') \n",
    "results = solver.solve(model, tee=True)\n",
    "print(results)\n",
    "print(\"Costo mínimo de la ruta =\", model.obj())"
   ]
  },
  {
   "cell_type": "code",
   "execution_count": 64,
   "metadata": {},
   "outputs": [
    {
     "name": "stdout",
     "output_type": "stream",
     "text": [
      "Arcos utilizados en la solución: [(4, 7), (7, 6)]\n",
      "Ruta desde 4 hasta 6: [4, 7, 6]\n"
     ]
    }
   ],
   "source": [
    "used_arcs = [(i, j) for (i, j) in cost if model.x[(i, j)].value == 1]\n",
    "\n",
    "print(\"Arcos utilizados en la solución:\", used_arcs)\n",
    "\n",
    "def reconstruir_ruta(origen, arcos):\n",
    "    ruta = [origen]\n",
    "    actual = origen\n",
    "    while True:\n",
    "        sucesores = [ j for (i,j) in arcos if i == actual ]\n",
    "        if not sucesores:\n",
    "            break\n",
    "        actual = sucesores[0]\n",
    "        ruta.append(actual)\n",
    "    return ruta\n",
    "\n",
    "ruta_encontrada = reconstruir_ruta(ORIGEN, used_arcs)\n",
    "print(\"Ruta desde 4 hasta 6:\", ruta_encontrada)"
   ]
  },
  {
   "cell_type": "code",
   "execution_count": 65,
   "metadata": {},
   "outputs": [
    {
     "data": {
      "image/png": "[encoded data removed]",
      "text/plain": [
       "<Figure size 800x600 with 1 Axes>"
      ]
     },
     "metadata": {},
     "output_type": "display_data"
    }
   ],
   "source": [
    "G = nx.DiGraph()\n",
    "\n",
    "for (i, j) in cost:\n",
    "    G.add_edge(i, j, weight=cost[(i, j)])\n",
    "\n",
    "pos = {n: coords[n] for n in coords}  \n",
    "\n",
    "plt.figure(figsize=(8, 6))\n",
    "nx.draw_networkx_nodes(G, pos, node_size=500, node_color='lightblue')\n",
    "nx.draw_networkx_labels(G, pos, font_size=10, font_color='black')\n",
    "nx.draw_networkx_edges(G, pos, arrows=True, arrowstyle='-|>', arrowsize=12)\n",
    "\n",
    "edge_labels = nx.get_edge_attributes(G, 'weight')\n",
    "edge_labels = {(i,j): f\"{edge_labels[(i,j)]:.2f}\" for (i,j) in edge_labels}\n",
    "nx.draw_networkx_edge_labels(G, pos, edge_labels=edge_labels, font_size=9)\n",
    "\n",
    "plt.title(\"Grafo de Nodos Inalámbricos (arcos con dist ≤ 20)\")\n",
    "plt.axis('equal') \n",
    "plt.show()\n"
   ]
  },
  {
   "cell_type": "code",
   "execution_count": null,
   "metadata": {},
   "outputs": [
    {
     "data": {
      "image/png": "[encoded data removed]",
      "text/plain": [
       "<Figure size 800x600 with 1 Axes>"
      ]
     },
     "metadata": {},
     "output_type": "display_data"
    }
   ],
   "source": [
    "used_arcs = [(4, 7), (7, 6)]\n",
    "G = nx.DiGraph()\n",
    "\n",
    "for (i, j) in cost:\n",
    "    G.add_edge(i, j, weight=cost[(i, j)])\n",
    "\n",
    "pos = {n: coords[n] for n in coords}  \n",
    "\n",
    "plt.figure(figsize=(8,6))\n",
    "nx.draw_networkx_nodes(G, pos, node_size=500, node_color='lightblue')\n",
    "nx.draw_networkx_labels(G, pos, font_size=10, font_color='black')\n",
    "\n",
    "nx.draw_networkx_edges(G, pos, arrows=True, arrowstyle='-|>', arrowsize=12)\n",
    "\n",
    "edge_labels = nx.get_edge_attributes(G, 'weight')\n",
    "edge_labels = {(i,j): f\"{edge_labels[(i,j)]:.2f}\" for (i,j) in edge_labels}\n",
    "nx.draw_networkx_edge_labels(G, pos, edge_labels=edge_labels, font_size=9)\n",
    "\n",
    "nx.draw_networkx_edges(\n",
    "    G,\n",
    "    pos,\n",
    "    edgelist=used_arcs,     \n",
    "    arrows=True,\n",
    "    arrowstyle='-|>',\n",
    "    arrowsize=12,\n",
    "    edge_color='red',     \n",
    "    width=3    \n",
    ")\n",
    "plt.title(\"Grafo de Nodos Inalámbricos con Ruta Óptima Destacada\")\n",
    "plt.axis('equal')\n",
    "plt.show()"
   ]
  },
  {
   "cell_type": "markdown",
   "metadata": {},
   "source": [
    "### Conclusiones\n",
    "\n",
    "El modelo en Pyomo confirma que la **ruta de menor costo** entre los nodos 4 y 6, para esta red de 7 nodos móviles inalámbricos, tiene un costo total de aproximadamente **35.06** y se construye mediante los arcos $\\{(4,7), (7,6)\\}$, conformando la ruta $[4, 7, 6]$. La formulación basada en el modelo de flujo unitario (con variables binarias para cada enlace posible) y la correspondiente restricción de balance de flujo se mostró efectiva, permitiendo que el solver GLPK encontrara una solución factible y óptima de forma clara. La **matriz de costos** empleada (distancias $\\le 20$) y las coordenadas proporcionadas ilustran la importancia de un adecuado **preprocesamiento**: solo se consideran aquellos enlaces con distancia menor o igual a 20, lo que limita el tamaño del problema y garantiza la consistencia de la red. Este enfoque es escalable a redes más grandes o variantes del problema (por ejemplo, restricciones adicionales de capacidad o enlaces dirigidos), lo que lo hace ampliamente aplicable en contextos de *rutas óptimas* y *planificación de redes*."
   ]
  }
 ],
 "metadata": {
  "kernelspec": {
   "display_name": "pyomo_env",
   "language": "python",
   "name": "python3"
  },
  "language_info": {
   "codemirror_mode": {
    "name": "ipython",
    "version": 3
   },
   "file_extension": ".py",
   "mimetype": "text/x-python",
   "name": "python",
   "nbconvert_exporter": "python",
   "pygments_lexer": "ipython3",
   "version": "3.12.2"
  }
 },
 "nbformat": 4,
 "nbformat_minor": 2
}
